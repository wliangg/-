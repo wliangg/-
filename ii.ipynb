{
 "cells": [
  {
   "cell_type": "code",
   "execution_count": 1,
   "metadata": {},
   "outputs": [
    {
     "name": "stdout",
     "output_type": "stream",
     "text": [
      "<class 'float'>\n",
      "<class 'int'>\n",
      "<class 'bool'>\n",
      "<class 'bool'>\n",
      "<class 'str'>\n"
     ]
    }
   ],
   "source": [
    "my_list = [87.87, 87, True, False, \"I am a string\"]\n",
    "for e in my_list:\n",
    "  print(type(e))"
   ]
  },
  {
   "cell_type": "code",
   "execution_count": 2,
   "metadata": {},
   "outputs": [
    {
     "name": "stdout",
     "output_type": "stream",
     "text": [
      "87.87\n",
      "[87.87, 87, True]\n",
      "[True, False, 'I am a string']\n"
     ]
    }
   ],
   "source": [
    "print(my_list[0])\n",
    "print(my_list[:3])\n",
    "print(my_list[2:])"
   ]
  },
  {
   "cell_type": "code",
   "execution_count": 3,
   "metadata": {},
   "outputs": [],
   "source": [
    "chicago_bulls = [\n",
    "    [72, 10],\n",
    "    'Phil Jackson',\n",
    "    '1995-1996',\n",
    "    True,\n",
    "    ['Ron Harper', 'Michael Jordan', 'Scottie Pippen', 'Dennis Rodman', 'Luc Longley']\n",
    "]"
   ]
  },
  {
   "cell_type": "code",
   "execution_count": 4,
   "metadata": {},
   "outputs": [],
   "source": [
    "chicago_bulls = {\n",
    "    \"win_loss\": [72, 10],\n",
    "    \"head_coach\": 'Phil Jackson',\n",
    "    \"season\": '1995-1996',\n",
    "    \"won_champion\": True,\n",
    "    \"starting_lineup\": ['Ron Harper', 'Michael Jordan', 'Scottie Pippen', 'Dennis Rodman', 'Luc Longley']\n",
    "}"
   ]
  },
  {
   "cell_type": "code",
   "execution_count": 5,
   "metadata": {},
   "outputs": [
    {
     "name": "stdout",
     "output_type": "stream",
     "text": [
      "win_loss\n",
      "head_coach\n",
      "season\n",
      "won_champion\n",
      "starting_lineup\n"
     ]
    }
   ],
   "source": [
    "for k in chicago_bulls:\n",
    "  print(k)"
   ]
  },
  {
   "cell_type": "code",
   "execution_count": 6,
   "metadata": {},
   "outputs": [
    {
     "name": "stdout",
     "output_type": "stream",
     "text": [
      "[72, 10]\n",
      "Phil Jackson\n",
      "1995-1996\n",
      "True\n",
      "['Ron Harper', 'Michael Jordan', 'Scottie Pippen', 'Dennis Rodman', 'Luc Longley']\n"
     ]
    }
   ],
   "source": [
    "for v in chicago_bulls.values():\n",
    "  print(v)"
   ]
  },
  {
   "cell_type": "code",
   "execution_count": 7,
   "metadata": {},
   "outputs": [
    {
     "name": "stdout",
     "output_type": "stream",
     "text": [
      "win_loss [72, 10]\n",
      "head_coach Phil Jackson\n",
      "season 1995-1996\n",
      "won_champion True\n",
      "starting_lineup ['Ron Harper', 'Michael Jordan', 'Scottie Pippen', 'Dennis Rodman', 'Luc Longley']\n"
     ]
    }
   ],
   "source": [
    "for k, v in chicago_bulls.items():\n",
    "  print(k, v)"
   ]
  },
  {
   "cell_type": "code",
   "execution_count": 8,
   "metadata": {},
   "outputs": [
    {
     "name": "stdout",
     "output_type": "stream",
     "text": [
      "Collecting pyquery\n",
      "  Downloading https://files.pythonhosted.org/packages/09/c7/ce8c9c37ab8ff8337faad3335c088d60bed4a35a4bed33a64f0e64fbcf29/pyquery-1.4.0-py2.py3-none-any.whl\n",
      "Requirement already satisfied: lxml>=2.1 in c:\\programdata\\anaconda3\\lib\\site-packages (from pyquery) (4.2.1)\n",
      "Collecting cssselect>0.7.9 (from pyquery)\n",
      "  Downloading https://files.pythonhosted.org/packages/7b/44/25b7283e50585f0b4156960691d951b05d061abf4a714078393e51929b30/cssselect-1.0.3-py2.py3-none-any.whl\n",
      "Installing collected packages: cssselect, pyquery\n",
      "Successfully installed cssselect-1.0.3 pyquery-1.4.0\n"
     ]
    },
    {
     "name": "stderr",
     "output_type": "stream",
     "text": [
      "distributed 1.21.8 requires msgpack, which is not installed.\n",
      "You are using pip version 10.0.1, however version 18.1 is available.\n",
      "You should consider upgrading via the 'python -m pip install --upgrade pip' command.\n"
     ]
    }
   ],
   "source": [
    "!pip install pyquery"
   ]
  },
  {
   "cell_type": "code",
   "execution_count": 9,
   "metadata": {},
   "outputs": [
    {
     "name": "stdout",
     "output_type": "stream",
     "text": [
      "['3008 大立光', '6409 旭隼', '5269 祥碩', '6415 矽力-KY', '1476 儒鴻', '2059 川湖', '2912 統一超', '2327 國巨', '1590 亞德客-KY', '2474 可成', '6414 樺漢', '2395 研華', '2723 美食-KY', '2330 台積電', '8341 日友', '8464 億豐', '4137 麗豐-KY', '2227 裕日車', '2207 和泰車', '2454 聯發科', '2357 華碩', '2049 上銀', '2231 為升', '9910 豐泰', '3406 玉晶光', '8454 富邦媒', '1707 葡萄王', '3665 貿聯-KY', '3443 創意', '1477 聚陽', '3533 嘉澤', '8422 可寧衛', '2492 華新科', '6504 南六', '3130 一零四', '4912 聯德控股-KY', '1537 廣隆', '9921 巨大', '1558 伸興', '4943 康控-KY', '2707 晶華', '1256 鮮活果汁-KY', '8070 長華', '6452 康友-KY', '9914 美利達', '3034 聯詠', '2308 台達電', '1536 和大', '2379 瑞昱', '1723 中碳', '8480 泰昇-KY', '2439 美律', '4763 材料-KY', '3413 京鼎', '3532 台勝科', '2239 英利-KY', '6464 台數科', '2939 凱羿-KY', '6505 台塑化', '3045 台灣大', '1326 台化', '8482 商億-KY', '2360 致茂', '6230 超眾', '6271 同欣電', '2412 中華電', '3026 禾伸堂', '4438 廣越', '1301 台塑', '1232 大統益', '8016 矽創', '6552 易華電', '2929 淘帝-KY', '2373 震旦行', '2345 智邦', '8114 振樺電', '5871 中租-KY', '5288 豐祥-KY', '9941 裕融', '6456 GIS-KY', '4536 拓凱', '4551 智伸科', '3454 晶睿', '6581 鋼聯', '9917 中保', '6176 瑞儀', '1773 勝一', '3023 信邦', '4739 康普', '4190 佐登-KY', '2915 潤泰全', '2727 王品', '3044 健鼎', '2731 雄獅', '6277 宏正', '3376 新日興', '2496 卓越', '9958 世紀鋼', '6269 台郡', '6416 瑞祺電通']\n",
      "['3130.00', '509.00', '448.00', '403.50', '385.00', '319.50', '317.00', '310.00', '282.50', '253.00', '232.00', '230.50', '226.00', '226.00', '224.00', '224.00', '222.50', '222.00', '221.00', '220.00', '217.50', '215.50', '206.00', '192.50', '192.50', '187.50', '187.50', '185.00', '181.00', '174.50', '173.00', '169.50', '165.50', '161.50', '155.00', '151.00', '146.50', '146.00', '142.00', '141.50', '140.00', '136.50', '135.00', '135.00', '133.00', '129.00', '128.50', '127.00', '126.50', '126.50', '125.00', '122.50', '120.50', '118.00', '116.00', '115.50', '113.50', '113.00', '112.00', '109.00', '108.00', '108.00', '107.00', '106.00', '106.00', '106.00', '105.50', '103.50', '101.00', '98.40', '98.00', '97.90', '96.80', '95.60', '95.20', '94.50', '93.90', '92.30', '90.30', '90.20', '89.30', '89.20', '89.00', '88.20', '87.00', '87.00', '86.90', '83.80', '83.80', '83.70', '82.70', '82.10', '81.80', '81.00', '81.00', '80.40', '80.30', '80.30', '80.00', '79.60']\n"
     ]
    }
   ],
   "source": [
    "from pyquery import PyQuery as pq\n",
    "\n",
    "page_url = \"https://tw.stock.yahoo.com/d/i/rank.php?t=pri&e=tse&n=100\"\n",
    "html_doc = pq(page_url)\n",
    "ticker_names = [tn.text for tn in html_doc(\".name a\")]\n",
    "prices = [p.text for p in html_doc(\".name+ td\")]\n",
    "print(ticker_names)\n",
    "print(prices)"
   ]
  },
  {
   "cell_type": "code",
   "execution_count": 10,
   "metadata": {},
   "outputs": [
    {
     "name": "stdout",
     "output_type": "stream",
     "text": [
      "[3130.0, 509.0, 448.0, 403.5, 385.0, 319.5, 317.0, 310.0, 282.5, 253.0, 232.0, 230.5, 226.0, 226.0, 224.0, 224.0, 222.5, 222.0, 221.0, 220.0, 217.5, 215.5, 206.0, 192.5, 192.5, 187.5, 187.5, 185.0, 181.0, 174.5, 173.0, 169.5, 165.5, 161.5, 155.0, 151.0, 146.5, 146.0, 142.0, 141.5, 140.0, 136.5, 135.0, 135.0, 133.0, 129.0, 128.5, 127.0, 126.5, 126.5, 125.0, 122.5, 120.5, 118.0, 116.0, 115.5, 113.5, 113.0, 112.0, 109.0, 108.0, 108.0, 107.0, 106.0, 106.0, 106.0, 105.5, 103.5, 101.0, 98.4, 98.0, 97.9, 96.8, 95.6, 95.2, 94.5, 93.9, 92.3, 90.3, 90.2, 89.3, 89.2, 89.0, 88.2, 87.0, 87.0, 86.9, 83.8, 83.8, 83.7, 82.7, 82.1, 81.8, 81.0, 81.0, 80.4, 80.3, 80.3, 80.0, 79.6]\n"
     ]
    }
   ],
   "source": [
    "price_float = []\n",
    "for p in prices:\n",
    "  price_float.append(float(p))\n",
    "print(price_float)"
   ]
  },
  {
   "cell_type": "code",
   "execution_count": null,
   "metadata": {},
   "outputs": [],
   "source": []
  }
 ],
 "metadata": {
  "kernelspec": {
   "display_name": "Python 3",
   "language": "python",
   "name": "python3"
  },
  "language_info": {
   "codemirror_mode": {
    "name": "ipython",
    "version": 3
   },
   "file_extension": ".py",
   "mimetype": "text/x-python",
   "name": "python",
   "nbconvert_exporter": "python",
   "pygments_lexer": "ipython3",
   "version": "3.6.5"
  }
 },
 "nbformat": 4,
 "nbformat_minor": 2
}
