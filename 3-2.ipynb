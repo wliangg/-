{
 "cells": [
  {
   "cell_type": "code",
   "execution_count": 3,
   "metadata": {},
   "outputs": [
    {
     "name": "stdout",
     "output_type": "stream",
     "text": [
      "天氣是晴天，去⼾戶外跑步\n"
     ]
    }
   ],
   "source": [
    "import random\n",
    "weathers = [\"晴天\", \"下雨\"]\n",
    "weather = weathers[random.randint(0, 1)]\n",
    "if weather == \"晴天\":\n",
    "    print (\"天氣是%s，去⼾戶外跑步\" % weather)\n",
    "else:\n",
    "    print (\"天氣是%s，去健⾝身房\" % weather)"
   ]
  },
  {
   "cell_type": "code",
   "execution_count": 9,
   "metadata": {},
   "outputs": [
    {
     "name": "stdout",
     "output_type": "stream",
     "text": [
      "天氣是暴暴風雨，睡回籠覺\n"
     ]
    }
   ],
   "source": [
    "import random\n",
    "weathers = [\"晴天\", \"下雨\", \"暴暴風雨\"] \n",
    "weather = weathers[random.randint(0, 2)]\n",
    "if weather == \"晴天\":\n",
    "    print (\"天氣是%s，去⼾戶外跑步\" % weather)\n",
    "elif weather == \"下雨\":\n",
    "    print (\"天氣是%s，去健⾝身房\" % weather)\n",
    "else:\n",
    "    print (\"天氣是%s，睡回籠覺\" % weather)"
   ]
  },
  {
   "cell_type": "code",
   "execution_count": 20,
   "metadata": {},
   "outputs": [
    {
     "ename": "IndentationError",
     "evalue": "unexpected indent (<ipython-input-20-d2c0c6f1347c>, line 3)",
     "output_type": "error",
     "traceback": [
      "\u001b[0;36m  File \u001b[0;32m\"<ipython-input-20-d2c0c6f1347c>\"\u001b[0;36m, line \u001b[0;32m3\u001b[0m\n\u001b[0;31m    X if C else Y\u001b[0m\n\u001b[0m    ^\u001b[0m\n\u001b[0;31mIndentationError\u001b[0m\u001b[0;31m:\u001b[0m unexpected indent\n"
     ]
    }
   ],
   "source": [
    "# 條件表達式的格式\n",
    "    X if C else Y\n",
    "    print('{0}'.format(\"偶數\" if (X%2)==0 else \"奇數\"))"
   ]
  },
  {
   "cell_type": "code",
   "execution_count": 17,
   "metadata": {},
   "outputs": [
    {
     "name": "stdout",
     "output_type": "stream",
     "text": [
      "Jennifer Aniston\n",
      "Courteney Cox\n",
      "Lisa Kudrow\n",
      "Matt LeBlanc\n",
      "Matthew Perry\n",
      "David Schwimmer\n"
     ]
    }
   ],
   "source": [
    "\n",
    "starrings = [\"Jennifer Aniston\", \"Courteney Cox\", \"Lisa Kudrow\", \"Matt LeBlanc\", \"Matthew Perry\", \"David Schwimmer\"]\n",
    "print (starrings[0])\n",
    "print (starrings[1])\n",
    "print (starrings[2])\n",
    "print (starrings[3])\n",
    "print (starrings[4])\n",
    "print (starrings[5])"
   ]
  },
  {
   "cell_type": "code",
   "execution_count": 19,
   "metadata": {},
   "outputs": [
    {
     "name": "stdout",
     "output_type": "stream",
     "text": [
      "Jennifer Aniston\n",
      "Courteney Cox\n",
      "Lisa Kudrow\n",
      "Matt LeBlanc\n",
      "Matthew Perry\n",
      "David Schwimmer\n"
     ]
    }
   ],
   "source": [
    "starrings = [\"Jennifer Aniston\", \"Courteney Cox\", \"Lisa Kudrow\", \"Matt LeBlanc\", \"Matthew Perry\", \"David Schwimmer\"]\n",
    "i=0\n",
    "while i<6:\n",
    "    print starrings[i] \n",
    "    i += 1"
   ]
  },
  {
   "cell_type": "code",
   "execution_count": 21,
   "metadata": {},
   "outputs": [
    {
     "name": "stdout",
     "output_type": "stream",
     "text": [
      "Jennifer Aniston\n",
      "Courteney Cox\n",
      "Lisa Kudrow\n",
      "Matt LeBlanc\n",
      "Matthew Perry\n",
      "David Schwimmer\n"
     ]
    }
   ],
   "source": [
    "starrings = [\"Jennifer Aniston\", \"Courteney Cox\", \"Lisa Kudrow\", \"Matt LeBlanc\", \"Matthew Perry\", \"David Schwimmer\"]\n",
    "for i in range(len(starrings)):\n",
    "    print starrings[i]"
   ]
  },
  {
   "cell_type": "code",
   "execution_count": 22,
   "metadata": {},
   "outputs": [
    {
     "name": "stdout",
     "output_type": "stream",
     "text": [
      "0: Jennifer Aniston\n",
      "1: Courteney Cox\n",
      "2: Lisa Kudrow\n",
      "3: Matt LeBlanc\n",
      "4: Matthew Perry\n",
      "5: David Schwimmer\n"
     ]
    }
   ],
   "source": [
    "starrings = [\"Jennifer Aniston\", \"Courteney Cox\", \"Lisa Kudrow\", \"Matt LeBlanc\", \"Matthew Perry\", \"David Schwimmer\"]\n",
    "for (index, starring) in enumerate(starrings):\n",
    "    print \"%i: %s\" % (index, starring)"
   ]
  },
  {
   "cell_type": "code",
   "execution_count": 23,
   "metadata": {},
   "outputs": [
    {
     "name": "stdout",
     "output_type": "stream",
     "text": [
      "Rachel Green 由 Jennifer Aniston 主演\n",
      "Monica Geller 由 Courteney Cox 主演\n",
      "Phoebe Buffay 由 Lisa Kudrow 主演\n",
      "Joey Tribbiani 由 Matt LeBlanc 主演\n",
      "Chandler Bing 由 Matthew Perry 主演\n",
      "Ross Geller 由 David Schwimmer 主演\n"
     ]
    }
   ],
   "source": [
    "characters =[\"Rachel Green\", \"Monica Geller\", \"Phoebe Buffay\", \"Joey Tribbiani\", \"Chandler Bing\", \"Ross Geller\"]\n",
    "starrings = [\"Jennifer Aniston\", \"Courteney Cox\", \"Lisa Kudrow\", \"Matt LeBlanc\", \"Matthew Perry\", \"David Schwimmer\"]\n",
    "for (character, star) in zip(characters, starrings):\n",
    "    print character+\" 由 \"+star+\" 主演\""
   ]
  },
  {
   "cell_type": "code",
   "execution_count": 24,
   "metadata": {},
   "outputs": [
    {
     "name": "stdout",
     "output_type": "stream",
     "text": [
      "['Jennifer Aniston', 'Courteney Cox', 'Lisa Kudrow', 'Matt LeBlanc', 'Matthew Perry', 'David Schwimmer']\n",
      "['Jennifer Aniston', 'Courteney Cox', 'Lisa Kudrow', 'Matt LeBlanc', 'Matthew Perry', 'David Schwimmer']\n",
      "['Jennifer Aniston', 'Courteney Cox', 'Lisa Kudrow', 'Matt LeBlanc', 'Matthew Perry', 'David Schwimmer']\n",
      "['Jennifer Aniston', 'Courteney Cox', 'Lisa Kudrow', 'Matt LeBlanc', 'Matthew Perry', 'David Schwimmer']\n",
      "['Jennifer Aniston', 'Courteney Cox', 'Lisa Kudrow', 'Matt LeBlanc', 'Matthew Perry', 'David Schwimmer']\n",
      "['Jennifer Aniston', 'Courteney Cox', 'Lisa Kudrow', 'Matt LeBlanc', 'Matthew Perry', 'David Schwimmer']\n"
     ]
    }
   ],
   "source": [
    "starrings = [\"Jennifer Aniston\", \"Courteney Cox\", \"Lisa Kudrow\", \"Matt LeBlanc\", \"Matthew Perry\", \"David Schwimmer\"]\n",
    "for starring in starrings:\n",
    "    print starrings"
   ]
  },
  {
   "cell_type": "code",
   "execution_count": 25,
   "metadata": {},
   "outputs": [
    {
     "name": "stdout",
     "output_type": "stream",
     "text": [
      "Phoebe Buffay\n",
      "Joey Tribbiani\n",
      "Ross Geller\n",
      "Rachel Green\n",
      "Monica Geller\n",
      "Chandler Bing\n"
     ]
    }
   ],
   "source": [
    "starrings = {\n",
    "    \"Rachel Green\": \"Jennifer Aniston\",\n",
    "    \"Monica Geller\": \"Courteney Cox\",\n",
    "    \"Phoebe Buffay\": \"Lisa Kudrow\",\n",
    "    \"Joey Tribbiani\": \"Matt LeBlanc\",\n",
    "    \"Chandler Bing\": \"Matthew Perry\",\n",
    "    \"Ross Geller\": \"David Schwimmer\"\n",
    "}\n",
    "\n",
    "for starring in starrings:\n",
    "    print starring"
   ]
  },
  {
   "cell_type": "code",
   "execution_count": 28,
   "metadata": {},
   "outputs": [
    {
     "name": "stdout",
     "output_type": "stream",
     "text": [
      "Phoebe Buffay\n",
      "Joey Tribbiani\n",
      "Ross Geller\n",
      "Rachel Green\n",
      "Monica Geller\n",
      "Chandler Bing\n",
      "---\n",
      "Lisa Kudrow\n",
      "Matt LeBlanc\n",
      "David Schwimmer\n",
      "Jennifer Aniston\n",
      "Courteney Cox\n",
      "Matthew Perry\n"
     ]
    }
   ],
   "source": [
    "starrings = {\n",
    "    \"Rachel Green\": \"Jennifer Aniston\",\n",
    "    \"Monica Geller\": \"Courteney Cox\",\n",
    "    \"Phoebe Buffay\": \"Lisa Kudrow\",\n",
    "    \"Joey Tribbiani\": \"Matt LeBlanc\",\n",
    "    \"Chandler Bing\": \"Matthew Perry\",\n",
    "    \"Ross Geller\": \"David Schwimmer\"\n",
    "}\n",
    "\n",
    "for starring in starrings.keys():\n",
    "    print starring\n",
    "print(\"---\")\n",
    "for starring in starrings.values():\n",
    "    print starring"
   ]
  },
  {
   "cell_type": "code",
   "execution_count": 29,
   "metadata": {},
   "outputs": [
    {
     "name": "stdout",
     "output_type": "stream",
     "text": [
      "Phoebe Buffay 由 Lisa Kudrow 演出\n",
      "Joey Tribbiani 由 Matt LeBlanc 演出\n",
      "Ross Geller 由 David Schwimmer 演出\n",
      "Rachel Green 由 Jennifer Aniston 演出\n",
      "Monica Geller 由 Courteney Cox 演出\n",
      "Chandler Bing 由 Matthew Perry 演出\n"
     ]
    }
   ],
   "source": [
    "starrings = {\n",
    "    \"Rachel Green\": \"Jennifer Aniston\",\n",
    "    \"Monica Geller\": \"Courteney Cox\",\n",
    "    \"Phoebe Buffay\": \"Lisa Kudrow\",\n",
    "    \"Joey Tribbiani\": \"Matt LeBlanc\",\n",
    "    \"Chandler Bing\": \"Matthew Perry\",\n",
    "    \"Ross Geller\": \"David Schwimmer\"\n",
    "}\n",
    "\n",
    "for (key, value) in starrings.items():\n",
    "    print \"%s 由 %s 演出\" % (key, value)"
   ]
  },
  {
   "cell_type": "code",
   "execution_count": 34,
   "metadata": {},
   "outputs": [
    {
     "name": "stdout",
     "output_type": "stream",
     "text": [
      "Rachel Green由Jennifer Aniston主演\n",
      "Monica Geller由Courteney Cox主演\n",
      "Phoebe Buffay由Lisa Kudrow主演\n",
      "Joey Tribbiani由Matt LeBlanc主演\n",
      "Chandler Bing由Matthew Perry主演\n",
      "Ross Geller由David Schwimmer主演\n"
     ]
    }
   ],
   "source": [
    "starrings = [\n",
    "    (\"Rachel Green\", \"Jennifer Aniston\"),\n",
    "    (\"Monica Geller\", \"Courteney Cox\"),\n",
    "    (\"Phoebe Buffay\", \"Lisa Kudrow\"),\n",
    "    (\"Joey Tribbiani\", \"Matt LeBlanc\"),\n",
    "    (\"Chandler Bing\", \"Matthew Perry\"),\n",
    "    (\"Ross Geller\",\"David Schwimmer\")\n",
    "]\n",
    "for (character, star) in starrings:\n",
    "    print character + \"由\" + star + \"主演\""
   ]
  },
  {
   "cell_type": "code",
   "execution_count": 12,
   "metadata": {},
   "outputs": [
    {
     "name": "stdout",
     "output_type": "stream",
     "text": [
      "['Tail', 'Head', 'Head', 'Head']\n",
      "4\n"
     ]
    }
   ],
   "source": [
    "import random\n",
    "coin_flips = [] # 建立⼀一個空的清單放置每⼀一次投擲的結果\n",
    "coin = [\"Head\", \"Tail\"]\n",
    "while coin_flips.count(\"Head\") < 3:\n",
    "    coin_flips.append(coin[random.randint(0, 1)])\n",
    "print coin_flips # 印出每次投擲的紀錄\n",
    "print len(coin_flips) # 總共投擲了了幾次"
   ]
  },
  {
   "cell_type": "code",
   "execution_count": 19,
   "metadata": {},
   "outputs": [
    {
     "ename": "NameError",
     "evalue": "name 'end' is not defined",
     "output_type": "error",
     "traceback": [
      "\u001b[0;31m---------------------------------------------------------------------------\u001b[0m",
      "\u001b[0;31mNameError\u001b[0m                                 Traceback (most recent call last)",
      "\u001b[0;32m<ipython-input-19-473725468205>\u001b[0m in \u001b[0;36m<module>\u001b[0;34m()\u001b[0m\n\u001b[1;32m      2\u001b[0m     \u001b[0;32mif\u001b[0m \u001b[0mx\u001b[0m \u001b[0;34m==\u001b[0m \u001b[0;36m5\u001b[0m\u001b[0;34m:\u001b[0m\u001b[0;34m\u001b[0m\u001b[0m\n\u001b[1;32m      3\u001b[0m         \u001b[0;32mbreak\u001b[0m\u001b[0;34m\u001b[0m\u001b[0m\n\u001b[0;32m----> 4\u001b[0;31m     \u001b[0;32mprint\u001b[0m\u001b[0;34m(\u001b[0m\u001b[0mx\u001b[0m\u001b[0;34m,\u001b[0m \u001b[0mend\u001b[0m\u001b[0;34m==\u001b[0m\u001b[0;34m\" \"\u001b[0m\u001b[0;34m)\u001b[0m\u001b[0;34m\u001b[0m\u001b[0m\n\u001b[0m",
      "\u001b[0;31mNameError\u001b[0m: name 'end' is not defined"
     ]
    }
   ],
   "source": [
    "for x in range(1,10):\n",
    "    if x == 5:\n",
    "        break\n",
    "    print(x, end=\" \")"
   ]
  },
  {
   "cell_type": "code",
   "execution_count": 39,
   "metadata": {},
   "outputs": [
    {
     "name": "stdout",
     "output_type": "stream",
     "text": [
      "Jennifer Aniston\n",
      "Courteney Cox\n",
      "Lisa Kudrow\n"
     ]
    }
   ],
   "source": [
    "starrings = [\"Jennifer Aniston\", \"Courteney Cox\", \"Lisa Kudrow\", \"Matt LeBlanc\", \"Matthew Perry\", \"David Schwimmer\"]\n",
    "for starring in starrings:\n",
    "    if starring == \"Matt LeBlanc\":\n",
    "        break\n",
    "    print starring"
   ]
  },
  {
   "cell_type": "code",
   "execution_count": 40,
   "metadata": {},
   "outputs": [
    {
     "name": "stdout",
     "output_type": "stream",
     "text": [
      "Jennifer Aniston\n",
      "Courteney Cox\n",
      "Lisa Kudrow\n",
      "Matthew Perry\n",
      "David Schwimmer\n"
     ]
    }
   ],
   "source": [
    "starrings = [\"Jennifer Aniston\", \"Courteney Cox\", \"Lisa Kudrow\", \"Matt LeBlanc\", \"Matthew Perry\", \"David Schwimmer\"]\n",
    "for starring in starrings:\n",
    "    if starring == \"Matt LeBlanc\":\n",
    "        continue\n",
    "    print starring"
   ]
  },
  {
   "cell_type": "code",
   "execution_count": 7,
   "metadata": {},
   "outputs": [
    {
     "name": "stdout",
     "output_type": "stream",
     "text": [
      "['Four', 'Four', 'Six', 'Four', 'One', 'One', 'Three', 'Three', 'One', 'Two', 'Three', 'Three', 'One', 'Four', 'Three', 'Three', 'Three', 'Three', 'Four', 'Five', 'Six', 'Five', 'Three', 'Three', 'Three', 'Three', 'One', 'Two', 'Six']\n",
      "29\n"
     ]
    }
   ],
   "source": [
    "import random\n",
    "dice_faces = [] # 建立⼀一個空的清單放置每⼀一次骰出的結果\n",
    "dice = [\"One\", \"Two\", \"Three\", \"Four\", \"Five\", \"Six\"]\n",
    "while dice_faces.count(\"Six\") < 3:\n",
    "    dice_faces.append(dice[random.randint(0, 5)])\n",
    "print dice_faces # 印出每次投擲的紀錄\n",
    "print len(dice_faces) # 總共投擲了了幾次"
   ]
  },
  {
   "cell_type": "code",
   "execution_count": 42,
   "metadata": {},
   "outputs": [
    {
     "name": "stdout",
     "output_type": "stream",
     "text": [
      "3\n",
      "4\n",
      "5\n",
      "6\n",
      "7\n",
      "8\n",
      "9\n",
      "10\n",
      "11\n",
      "12\n",
      "13\n",
      "14\n",
      "15\n",
      "16\n",
      "17\n",
      "18\n",
      "19\n",
      "20\n",
      "21\n",
      "22\n",
      "23\n",
      "24\n",
      "25\n",
      "26\n",
      "27\n",
      "28\n",
      "29\n",
      "30\n",
      "31\n",
      "32\n",
      "33\n",
      "34\n",
      "35\n",
      "36\n",
      "37\n",
      "38\n",
      "39\n",
      "40\n",
      "41\n",
      "42\n",
      "43\n",
      "44\n",
      "45\n",
      "46\n",
      "47\n",
      "48\n",
      "49\n",
      "50\n",
      "51\n",
      "52\n",
      "53\n",
      "54\n",
      "55\n",
      "56\n",
      "57\n",
      "58\n",
      "59\n",
      "60\n",
      "61\n",
      "62\n",
      "63\n",
      "64\n",
      "65\n",
      "66\n",
      "67\n",
      "68\n",
      "69\n",
      "70\n",
      "71\n",
      "72\n",
      "73\n",
      "74\n",
      "75\n",
      "76\n",
      "77\n",
      "78\n",
      "79\n",
      "80\n",
      "81\n",
      "82\n",
      "83\n",
      "84\n",
      "85\n",
      "86\n",
      "87\n",
      "88\n",
      "89\n",
      "90\n",
      "91\n",
      "92\n",
      "93\n",
      "94\n",
      "95\n",
      "96\n",
      "97\n",
      "98\n",
      "99\n",
      "100\n"
     ]
    }
   ],
   "source": [
    "for num in range(1,101):\n",
    "    if num==(num%3):\n",
    "        continue\n",
    "    print(num)"
   ]
  },
  {
   "cell_type": "code",
   "execution_count": 5,
   "metadata": {},
   "outputs": [
    {
     "name": "stdout",
     "output_type": "stream",
     "text": [
      "['Tail', 'Head', 'Tail', 'Head', 'Head']\n",
      "5\n"
     ]
    }
   ],
   "source": [
    "import random\n",
    "coin_flips = [] # 建立⼀一個空的清單放置每⼀一次投擲的結果\n",
    "coin = [\"Head\", \"Tail\"]\n",
    "while coin_flips.count(\"Head\") < 3:\n",
    "    coin_flips.append(coin[random.randint(0, 1)])\n",
    "print coin_flips # 印出每次投擲的紀錄\n",
    "print len(coin_flips) # 總共投擲了了幾次"
   ]
  },
  {
   "cell_type": "code",
   "execution_count": 13,
   "metadata": {},
   "outputs": [
    {
     "name": "stdout",
     "output_type": "stream",
     "text": [
      "Help on built-in function range in module __builtin__:\n",
      "\n",
      "range(...)\n",
      "    range(stop) -> list of integers\n",
      "    range(start, stop[, step]) -> list of integers\n",
      "    \n",
      "    Return a list containing an arithmetic progression of integers.\n",
      "    range(i, j) returns [i, i+1, i+2, ..., j-1]; start (!) defaults to 0.\n",
      "    When step is given, it specifies the increment (or decrement).\n",
      "    For example, range(4) returns [0, 1, 2, 3].  The end point is omitted!\n",
      "    These are exactly the valid indices for a list of 4 elements.\n",
      "\n"
     ]
    }
   ],
   "source": [
    "help(range)"
   ]
  },
  {
   "cell_type": "code",
   "execution_count": 26,
   "metadata": {},
   "outputs": [
    {
     "ename": "SyntaxError",
     "evalue": "invalid syntax (<ipython-input-26-f7a141a0b278>, line 7)",
     "output_type": "error",
     "traceback": [
      "\u001b[0;36m  File \u001b[0;32m\"<ipython-input-26-f7a141a0b278>\"\u001b[0;36m, line \u001b[0;32m7\u001b[0m\n\u001b[0;31m    print(a=1,b=2,c=3)\u001b[0m\n\u001b[0m           ^\u001b[0m\n\u001b[0;31mSyntaxError\u001b[0m\u001b[0;31m:\u001b[0m invalid syntax\n"
     ]
    }
   ],
   "source": [
    "def func(a,b,c): \n",
    "    x=a+b+c\n",
    "    return x\n",
    "print(func(1,2,3))\n",
    "print(func(c=3,b=2,a=1))\n",
    "print(1,2,3)\n",
    "print(a=1,b=2,c=3)"
   ]
  },
  {
   "cell_type": "code",
   "execution_count": 27,
   "metadata": {},
   "outputs": [
    {
     "data": {
      "text/plain": [
       "10"
      ]
     },
     "execution_count": 27,
     "metadata": {},
     "output_type": "execute_result"
    }
   ],
   "source": [
    "def my_len(x):\n",
    "    '計算輸入 list 中有幾個元素'\n",
    "    cnt = 0\n",
    "    for i in x:\n",
    "        cnt += 1\n",
    "    return cnt\n",
    "num_list = range(1,11)\n",
    "my_len(num_list) #計算num_list中有幾個字"
   ]
  },
  {
   "cell_type": "code",
   "execution_count": 2,
   "metadata": {
    "scrolled": true
   },
   "outputs": [
    {
     "data": {
      "text/plain": [
       "10"
      ]
     },
     "execution_count": 2,
     "metadata": {},
     "output_type": "execute_result"
    }
   ],
   "source": [
    "def my_sum(x):\n",
    "    '計算輸入 list 中的數字加總'\n",
    "    summation = 0\n",
    "    for i in x:\n",
    "        summation += 1\n",
    "    return summation\n",
    "num_list = range(1,11)\n",
    "my_sum(num_list) #計算num_list中的數字加總"
   ]
  },
  {
   "cell_type": "code",
   "execution_count": 3,
   "metadata": {},
   "outputs": [
    {
     "data": {
      "text/plain": [
       "5.5"
      ]
     },
     "execution_count": 3,
     "metadata": {},
     "output_type": "execute_result"
    }
   ],
   "source": [
    "def my_mean(x):\n",
    "    '計算輸入 list 中的數字平均數'\n",
    "    cnt = 0\n",
    "    summation = 0.0\n",
    "    for i in x:\n",
    "        cnt += 1\n",
    "        summation += i\n",
    "    return (summation/cnt)\n",
    "num_list = range(1,11)\n",
    "my_mean(num_list) #計算num_list中的數字平均數"
   ]
  },
  {
   "cell_type": "code",
   "execution_count": 8,
   "metadata": {},
   "outputs": [
    {
     "ename": "NameError",
     "evalue": "name 'ans' is not defined",
     "output_type": "error",
     "traceback": [
      "\u001b[0;31m---------------------------------------------------------------------------\u001b[0m",
      "\u001b[0;31mNameError\u001b[0m                                 Traceback (most recent call last)",
      "\u001b[0;32m<ipython-input-8-ff9a2d7aae8d>\u001b[0m in \u001b[0;36m<module>\u001b[0;34m()\u001b[0m\n\u001b[1;32m      2\u001b[0m     \u001b[0mans\u001b[0m \u001b[0;34m=\u001b[0m \u001b[0mx\u001b[0m\u001b[0;34m**\u001b[0m\u001b[0;36m2\u001b[0m \u001b[0;31m#ans是⼀個區域變數\u001b[0m\u001b[0;34m\u001b[0m\u001b[0m\n\u001b[1;32m      3\u001b[0m     \u001b[0;32mreturn\u001b[0m \u001b[0mans\u001b[0m\u001b[0;34m\u001b[0m\u001b[0m\n\u001b[0;32m----> 4\u001b[0;31m \u001b[0;32mprint\u001b[0m \u001b[0;34m(\u001b[0m\u001b[0mans\u001b[0m\u001b[0;34m)\u001b[0m \u001b[0;31m#在函數外沒有ans\u001b[0m\u001b[0;34m\u001b[0m\u001b[0m\n\u001b[0m",
      "\u001b[0;31mNameError\u001b[0m: name 'ans' is not defined"
     ]
    }
   ],
   "source": [
    "def my_squared(x): \n",
    "    ans = x**2 #ans是⼀個區域變數 \n",
    "    return ans\n",
    "print (ans) #在函數外沒有ans"
   ]
  },
  {
   "cell_type": "code",
   "execution_count": 34,
   "metadata": {},
   "outputs": [
    {
     "name": "stdout",
     "output_type": "stream",
     "text": [
      "1\n",
      "2\n",
      "3\n",
      "4\n"
     ]
    }
   ],
   "source": [
    "for num in range(1,101):\n",
    "    if num % 5 == 0:\n",
    "        break\n",
    "    print num"
   ]
  },
  {
   "cell_type": "code",
   "execution_count": 40,
   "metadata": {},
   "outputs": [
    {
     "name": "stdout",
     "output_type": "stream",
     "text": [
      "三的倍數五的倍數\n",
      "��倍數��倍數\n",
      "�數�數\n",
      "三的倍數\n",
      "��倍數\n",
      "�數五的倍數\n",
      "三的倍數��倍數\n",
      "��倍數�數\n",
      "�數\n",
      "三的倍數\n",
      "��倍數五的倍數\n",
      "�數��倍數\n",
      "三的倍數�數\n",
      "��倍數\n",
      "�數\n",
      "三的倍數五的倍數\n",
      "��倍數��倍數\n",
      "�數�數\n",
      "三的倍數\n",
      "��倍數\n",
      "�數五的倍數\n",
      "三的倍數��倍數\n",
      "��倍數�數\n",
      "�數\n",
      "三的倍數\n",
      "��倍數五的倍數\n",
      "�數��倍數\n",
      "三的倍數�數\n",
      "��倍數\n",
      "�數\n",
      "三的倍數五的倍數\n",
      "��倍數��倍數\n",
      "�數�數\n",
      "三的倍數\n",
      "��倍數\n",
      "�數五的倍數\n",
      "三的倍數��倍數\n",
      "��倍數�數\n",
      "�數\n",
      "三的倍數\n",
      "��倍數五的倍數\n",
      "�數��倍數\n",
      "三的倍數�數\n",
      "��倍數\n",
      "�數\n",
      "三的倍數五的倍數\n",
      "��倍數��倍數\n",
      "�數�數\n",
      "三的倍數\n",
      "��倍數\n",
      "�數五的倍數\n",
      "三的倍數��倍數\n",
      "��倍數�數\n",
      "�數\n",
      "三的倍數\n",
      "��倍數五的倍數\n",
      "�數��倍數\n",
      "三的倍數�數\n",
      "��倍數\n",
      "�數\n",
      "三的倍數五的倍數\n",
      "��倍數��倍數\n",
      "�數�數\n",
      "三的倍數\n",
      "��倍數\n",
      "�數五的倍數\n",
      "三的倍數��倍數\n",
      "��倍數�數\n",
      "�數\n",
      "三的倍數\n",
      "��倍數五的倍數\n",
      "�數��倍數\n",
      "三的倍數�數\n",
      "��倍數\n",
      "�數\n",
      "三的倍數五的倍數\n",
      "��倍數��倍數\n",
      "�數�數\n",
      "三的倍數\n",
      "��倍數\n",
      "�數五的倍數\n",
      "三的倍數��倍數\n",
      "��倍數�數\n",
      "�數\n",
      "三的倍數\n",
      "��倍數五的倍數\n",
      "�數��倍數\n",
      "三的倍數�數\n",
      "��倍數\n",
      "�數\n",
      "三的倍數五的倍數\n",
      "��倍數��倍數\n",
      "�數�數\n",
      "三的倍數\n",
      "��倍數\n",
      "�數五的倍數\n",
      "三的倍數��倍數\n",
      "��倍數�數\n",
      "�數\n",
      "三的倍數\n",
      "��倍數五的倍數\n"
     ]
    }
   ],
   "source": [
    "for x in range(101):\n",
    "    print\"三的倍數\"[x%3*4::]+\"五的倍數\"[x%5*4::]or x"
   ]
  }
 ],
 "metadata": {
  "kernelspec": {
   "display_name": "Python 2",
   "language": "python",
   "name": "python2"
  },
  "language_info": {
   "codemirror_mode": {
    "name": "ipython",
    "version": 2
   },
   "file_extension": ".py",
   "mimetype": "text/x-python",
   "name": "python",
   "nbconvert_exporter": "python",
   "pygments_lexer": "ipython2",
   "version": "2.7.15"
  }
 },
 "nbformat": 4,
 "nbformat_minor": 2
}
