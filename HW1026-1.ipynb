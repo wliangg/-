{
 "cells": [
  {
   "cell_type": "code",
   "execution_count": 6,
   "metadata": {
    "scrolled": true
   },
   "outputs": [
    {
     "data": {
      "text/html": [
       "<div>\n",
       "<style scoped>\n",
       "    .dataframe tbody tr th:only-of-type {\n",
       "        vertical-align: middle;\n",
       "    }\n",
       "\n",
       "    .dataframe tbody tr th {\n",
       "        vertical-align: top;\n",
       "    }\n",
       "\n",
       "    .dataframe thead th {\n",
       "        text-align: right;\n",
       "    }\n",
       "</style>\n",
       "<table border=\"1\" class=\"dataframe\">\n",
       "  <thead>\n",
       "    <tr style=\"text-align: right;\">\n",
       "      <th></th>\n",
       "      <th>number</th>\n",
       "      <th>player</th>\n",
       "      <th>pos</th>\n",
       "      <th>ht</th>\n",
       "      <th>wt</th>\n",
       "      <th>birth_date</th>\n",
       "      <th>college</th>\n",
       "    </tr>\n",
       "  </thead>\n",
       "  <tbody>\n",
       "    <tr>\n",
       "      <th>0</th>\n",
       "      <td>0</td>\n",
       "      <td>Randy Brown</td>\n",
       "      <td>PG</td>\n",
       "      <td>6-2</td>\n",
       "      <td>190</td>\n",
       "      <td>May 22, 1968</td>\n",
       "      <td>University of Houston, New Mexico State Univer...</td>\n",
       "    </tr>\n",
       "    <tr>\n",
       "      <th>1</th>\n",
       "      <td>30</td>\n",
       "      <td>Jud Buechler</td>\n",
       "      <td>SF</td>\n",
       "      <td>6-6</td>\n",
       "      <td>220</td>\n",
       "      <td>June 19, 1968</td>\n",
       "      <td>University of Arizona</td>\n",
       "    </tr>\n",
       "    <tr>\n",
       "      <th>2</th>\n",
       "      <td>35</td>\n",
       "      <td>Jason Caffey</td>\n",
       "      <td>PF</td>\n",
       "      <td>6-8</td>\n",
       "      <td>255</td>\n",
       "      <td>June 12, 1973</td>\n",
       "      <td>University of Alabama</td>\n",
       "    </tr>\n",
       "    <tr>\n",
       "      <th>3</th>\n",
       "      <td>53</td>\n",
       "      <td>James Edwards</td>\n",
       "      <td>C</td>\n",
       "      <td>7-0</td>\n",
       "      <td>225</td>\n",
       "      <td>November 22, 1955</td>\n",
       "      <td>University of Washington</td>\n",
       "    </tr>\n",
       "    <tr>\n",
       "      <th>4</th>\n",
       "      <td>54</td>\n",
       "      <td>Jack Haley</td>\n",
       "      <td>C</td>\n",
       "      <td>6-10</td>\n",
       "      <td>240</td>\n",
       "      <td>January 27, 1964</td>\n",
       "      <td>University of California, Los Angeles</td>\n",
       "    </tr>\n",
       "    <tr>\n",
       "      <th>5</th>\n",
       "      <td>9</td>\n",
       "      <td>Ron Harper</td>\n",
       "      <td>PG</td>\n",
       "      <td>6-6</td>\n",
       "      <td>185</td>\n",
       "      <td>January 20, 1964</td>\n",
       "      <td>Miami University</td>\n",
       "    </tr>\n",
       "    <tr>\n",
       "      <th>6</th>\n",
       "      <td>23</td>\n",
       "      <td>Michael Jordan</td>\n",
       "      <td>SG</td>\n",
       "      <td>6-6</td>\n",
       "      <td>195</td>\n",
       "      <td>February 17, 1963</td>\n",
       "      <td>University of North Carolina</td>\n",
       "    </tr>\n",
       "    <tr>\n",
       "      <th>7</th>\n",
       "      <td>25</td>\n",
       "      <td>Steve Kerr</td>\n",
       "      <td>PG</td>\n",
       "      <td>6-3</td>\n",
       "      <td>175</td>\n",
       "      <td>September 27, 1965</td>\n",
       "      <td>University of Arizona</td>\n",
       "    </tr>\n",
       "    <tr>\n",
       "      <th>8</th>\n",
       "      <td>7</td>\n",
       "      <td>Toni Kukoc</td>\n",
       "      <td>SF</td>\n",
       "      <td>6-10</td>\n",
       "      <td>192</td>\n",
       "      <td>September 18, 1968</td>\n",
       "      <td>NaN</td>\n",
       "    </tr>\n",
       "    <tr>\n",
       "      <th>9</th>\n",
       "      <td>13</td>\n",
       "      <td>Luc Longley</td>\n",
       "      <td>C</td>\n",
       "      <td>7-2</td>\n",
       "      <td>265</td>\n",
       "      <td>January 19, 1969</td>\n",
       "      <td>University of New Mexico</td>\n",
       "    </tr>\n",
       "    <tr>\n",
       "      <th>10</th>\n",
       "      <td>33</td>\n",
       "      <td>Scottie Pippen</td>\n",
       "      <td>SF</td>\n",
       "      <td>6-8</td>\n",
       "      <td>210</td>\n",
       "      <td>September 25, 1965</td>\n",
       "      <td>University of Central Arkansas</td>\n",
       "    </tr>\n",
       "    <tr>\n",
       "      <th>11</th>\n",
       "      <td>91</td>\n",
       "      <td>Dennis Rodman</td>\n",
       "      <td>PF</td>\n",
       "      <td>6-7</td>\n",
       "      <td>210</td>\n",
       "      <td>May 13, 1961</td>\n",
       "      <td>Southeastern Oklahoma State University</td>\n",
       "    </tr>\n",
       "    <tr>\n",
       "      <th>12</th>\n",
       "      <td>22</td>\n",
       "      <td>John Salley</td>\n",
       "      <td>PF</td>\n",
       "      <td>6-11</td>\n",
       "      <td>230</td>\n",
       "      <td>May 16, 1964</td>\n",
       "      <td>Georgia Institute of Technology</td>\n",
       "    </tr>\n",
       "    <tr>\n",
       "      <th>13</th>\n",
       "      <td>8</td>\n",
       "      <td>Dickey Simpkins</td>\n",
       "      <td>PF</td>\n",
       "      <td>6-9</td>\n",
       "      <td>248</td>\n",
       "      <td>April 6, 1972</td>\n",
       "      <td>Providence College</td>\n",
       "    </tr>\n",
       "    <tr>\n",
       "      <th>14</th>\n",
       "      <td>34</td>\n",
       "      <td>Bill Wennington</td>\n",
       "      <td>C</td>\n",
       "      <td>7-0</td>\n",
       "      <td>245</td>\n",
       "      <td>April 26, 1963</td>\n",
       "      <td>St. John's University</td>\n",
       "    </tr>\n",
       "  </tbody>\n",
       "</table>\n",
       "</div>"
      ],
      "text/plain": [
       "    number           player pos    ht   wt          birth_date  \\\n",
       "0        0      Randy Brown  PG   6-2  190        May 22, 1968   \n",
       "1       30     Jud Buechler  SF   6-6  220       June 19, 1968   \n",
       "2       35     Jason Caffey  PF   6-8  255       June 12, 1973   \n",
       "3       53    James Edwards   C   7-0  225   November 22, 1955   \n",
       "4       54       Jack Haley   C  6-10  240    January 27, 1964   \n",
       "5        9       Ron Harper  PG   6-6  185    January 20, 1964   \n",
       "6       23   Michael Jordan  SG   6-6  195   February 17, 1963   \n",
       "7       25       Steve Kerr  PG   6-3  175  September 27, 1965   \n",
       "8        7       Toni Kukoc  SF  6-10  192  September 18, 1968   \n",
       "9       13      Luc Longley   C   7-2  265    January 19, 1969   \n",
       "10      33   Scottie Pippen  SF   6-8  210  September 25, 1965   \n",
       "11      91    Dennis Rodman  PF   6-7  210        May 13, 1961   \n",
       "12      22      John Salley  PF  6-11  230        May 16, 1964   \n",
       "13       8  Dickey Simpkins  PF   6-9  248       April 6, 1972   \n",
       "14      34  Bill Wennington   C   7-0  245      April 26, 1963   \n",
       "\n",
       "                                              college  \n",
       "0   University of Houston, New Mexico State Univer...  \n",
       "1                               University of Arizona  \n",
       "2                               University of Alabama  \n",
       "3                            University of Washington  \n",
       "4               University of California, Los Angeles  \n",
       "5                                    Miami University  \n",
       "6                        University of North Carolina  \n",
       "7                               University of Arizona  \n",
       "8                                                 NaN  \n",
       "9                            University of New Mexico  \n",
       "10                     University of Central Arkansas  \n",
       "11             Southeastern Oklahoma State University  \n",
       "12                    Georgia Institute of Technology  \n",
       "13                                 Providence College  \n",
       "14                              St. John's University  "
      ]
     },
     "execution_count": 6,
     "metadata": {},
     "output_type": "execute_result"
    }
   ],
   "source": [
    "# pd.read_csv() 使⽤用預設參參數 \n",
    "import pandas as pd\n",
    "\n",
    "csv_url = \"https://storage.googleapis.com/ds_data_import/chicago_bulls_1995_1996.csv\" \n",
    "csv_df = pd.read_csv(csv_url) \n",
    "csv_df\n",
    "\n",
    "# pd.read_csv() ⾃自⾏行行指定變數的名稱 \n",
    "import pandas as pd\n",
    "csv_url = \"https://storage.googleapis.com/ds_data_import/chicago_bulls_1995_1996.csv\" \n",
    "csv_df = pd.read_csv(csv_url, header=None, skiprows=1, names=['number', 'player', 'pos', 'ht', 'wt', 'birth_date', 'college']) \n",
    "csv_df"
   ]
  },
  {
   "cell_type": "code",
   "execution_count": 7,
   "metadata": {},
   "outputs": [
    {
     "ename": "SyntaxError",
     "evalue": "keyword can't be an expression (<ipython-input-7-c75883c1f816>, line 8)",
     "output_type": "error",
     "traceback": [
      "\u001b[1;36m  File \u001b[1;32m\"<ipython-input-7-c75883c1f816>\"\u001b[1;36m, line \u001b[1;32m8\u001b[0m\n\u001b[1;33m    csv_df <- read.csv(csv_url, skip = 1, header = FALSE, col.names = c('number', 'player', 'pos', 'ht', 'wt', 'birth_date', 'college'))\u001b[0m\n\u001b[1;37m                                                         ^\u001b[0m\n\u001b[1;31mSyntaxError\u001b[0m\u001b[1;31m:\u001b[0m keyword can't be an expression\n"
     ]
    }
   ],
   "source": [
    "# read.csv() 使⽤用預設參參數 \n",
    "csv_url <- \"https://storage.googleapis.com/ds_data_import/chicago_bulls_1995_1996.csv\" \n",
    "csv_df <- read.csv(csv_url) \n",
    "View(csv_df)\n",
    "\n",
    "# read.csv() ⾃自⾏行行指定變數的名稱 \n",
    "csv_url <- \"https://storage.googleapis.com/ds_data_import/chicago_bulls_1995_1996.csv\" \n",
    "csv_df <- read.csv(csv_url, skip = 1, header = FALSE, col.names = c('number', 'player', 'pos', 'ht', 'wt', 'birth_date', 'college')) \n",
    "View(csv_df)\n"
   ]
  },
  {
   "cell_type": "code",
   "execution_count": 10,
   "metadata": {},
   "outputs": [
    {
     "name": "stdout",
     "output_type": "stream",
     "text": [
      "<class 'dict'>\n",
      "勝率為 0.88\n",
      "喜歡的球員是 Michael Jordan\n"
     ]
    }
   ],
   "source": [
    "# JSON 檔案儲存在雲端 \n",
    "from requests import get\n",
    "\n",
    "json_url = 'https://storage.googleapis.com/ds_data_import/chicago_bulls_1995_1996.json' \n",
    "chicago_bulls_dict = get(json_url).json() \n",
    "print(type(chicago_bulls_dict)) \n",
    "chicago_bulls_dict\n",
    "\n",
    "# 計算勝率或者從先發陣容中選出喜歡的球員 \n",
    "winning_percentage = chicago_bulls_dict[\"records\"][\"wins\"] / (chicago_bulls_dict[\"records\"][\"wins\"] + chicago_bulls_dict[\"records\"][\"losses\"]) \n",
    "fav_player = chicago_bulls_dict[\"starting_lineups\"][\"SG\"] \n",
    "print(\"勝率為 {:.2f}\".format(winning_percentage)) \n",
    "print(\"喜歡的球員是 {}\".format(fav_player))\n"
   ]
  },
  {
   "cell_type": "code",
   "execution_count": 11,
   "metadata": {},
   "outputs": [
    {
     "name": "stdout",
     "output_type": "stream",
     "text": [
      "六⼈人⾏行行有 10 季\n",
      "Rachel Green 由 Jennifer Aniston 飾演\n",
      "Monica Geller 由 Courteney Cox 飾演\n",
      "Phoebe Buffay 由 Lisa Kudrow 飾演\n",
      "Joey Tribbiani 由 Matt LeBlanc 飾演\n",
      "Chandler Bing 由 Matthew Perry 飾演\n",
      "Ross Geller 由 David Schwimmer 飾演\n"
     ]
    }
   ],
   "source": [
    "# 使⽤用 json 套件的 loads() ⽅方法來來載入 json 在雲端的檔案\n",
    "\n",
    "import urllib.request \n",
    "import json\n",
    "\n",
    "url = \"https://storage.googleapis.com/intro-2-py-ds/data/ch9/friends.json\" \n",
    "with urllib.request.urlopen(url) as json_url:    \n",
    "    friends_dict = json.loads(json_url.read().decode())\n",
    "    \n",
    "print(\"六⼈人⾏行行有 %i 季\" % friends_dict[\"seasons\"]) \n",
    "for character, star in zip(friends_dict[\"characters\"], friends_dict[\"stars\"]):    \n",
    "    print(\"%s 由 %s 飾演\" % (character, star))\n"
   ]
  },
  {
   "cell_type": "code",
   "execution_count": 12,
   "metadata": {},
   "outputs": [
    {
     "name": "stdout",
     "output_type": "stream",
     "text": [
      "6\n",
      "6\n",
      "1 2 3\n"
     ]
    },
    {
     "ename": "TypeError",
     "evalue": "'a' is an invalid keyword argument for this function",
     "output_type": "error",
     "traceback": [
      "\u001b[1;31m---------------------------------------------------------------------------\u001b[0m",
      "\u001b[1;31mTypeError\u001b[0m                                 Traceback (most recent call last)",
      "\u001b[1;32m<ipython-input-12-cf4f06df8b9c>\u001b[0m in \u001b[0;36m<module>\u001b[1;34m()\u001b[0m\n\u001b[0;32m      6\u001b[0m \u001b[0mprint\u001b[0m\u001b[1;33m(\u001b[0m\u001b[0mfunc\u001b[0m\u001b[1;33m(\u001b[0m\u001b[0mc\u001b[0m\u001b[1;33m=\u001b[0m\u001b[1;36m3\u001b[0m\u001b[1;33m,\u001b[0m\u001b[0mb\u001b[0m\u001b[1;33m=\u001b[0m\u001b[1;36m2\u001b[0m\u001b[1;33m,\u001b[0m\u001b[0ma\u001b[0m\u001b[1;33m=\u001b[0m\u001b[1;36m1\u001b[0m\u001b[1;33m)\u001b[0m\u001b[1;33m)\u001b[0m\u001b[1;33m\u001b[0m\u001b[0m\n\u001b[0;32m      7\u001b[0m \u001b[0mprint\u001b[0m\u001b[1;33m(\u001b[0m\u001b[1;36m1\u001b[0m\u001b[1;33m,\u001b[0m\u001b[1;36m2\u001b[0m\u001b[1;33m,\u001b[0m\u001b[1;36m3\u001b[0m\u001b[1;33m)\u001b[0m\u001b[1;33m\u001b[0m\u001b[0m\n\u001b[1;32m----> 8\u001b[1;33m \u001b[0mprint\u001b[0m\u001b[1;33m(\u001b[0m\u001b[0ma\u001b[0m\u001b[1;33m=\u001b[0m\u001b[1;36m1\u001b[0m\u001b[1;33m,\u001b[0m\u001b[0mb\u001b[0m\u001b[1;33m=\u001b[0m\u001b[1;36m2\u001b[0m\u001b[1;33m,\u001b[0m\u001b[0mc\u001b[0m\u001b[1;33m=\u001b[0m\u001b[1;36m3\u001b[0m\u001b[1;33m)\u001b[0m\u001b[1;33m\u001b[0m\u001b[0m\n\u001b[0m",
      "\u001b[1;31mTypeError\u001b[0m: 'a' is an invalid keyword argument for this function"
     ]
    }
   ],
   "source": [
    "def func(a,b,c):\n",
    "    x = a + b + c\n",
    "    return x\n",
    "\n",
    "print(func(1,2,3))\n",
    "print(func(c=3,b=2,a=1))\n",
    "print(1,2,3)\n",
    "print(a=1,b=2,c=3)\n"
   ]
  },
  {
   "cell_type": "code",
   "execution_count": 14,
   "metadata": {},
   "outputs": [
    {
     "ename": "SyntaxError",
     "evalue": "invalid syntax (<ipython-input-14-df9bd572b6a3>, line 11)",
     "output_type": "error",
     "traceback": [
      "\u001b[1;36m  File \u001b[1;32m\"<ipython-input-14-df9bd572b6a3>\"\u001b[1;36m, line \u001b[1;32m11\u001b[0m\n\u001b[1;33m    print circle_area(3)\u001b[0m\n\u001b[1;37m                    ^\u001b[0m\n\u001b[1;31mSyntaxError\u001b[0m\u001b[1;31m:\u001b[0m invalid syntax\n"
     ]
    }
   ],
   "source": [
    "\n",
    "import math # 要使⽤用圓周率 pi 得引入套件 math\n",
    "\n",
    "\n",
    "def circle_area(r):\n",
    "    \n",
    "    '輸入半徑長度可以計算出圓⾯面積'\n",
    "    \n",
    "    return math.pi * r ** 2\n",
    "\n",
    "print circle_area(3)"
   ]
  },
  {
   "cell_type": "code",
   "execution_count": 15,
   "metadata": {},
   "outputs": [
    {
     "ename": "SyntaxError",
     "evalue": "invalid syntax (<ipython-input-15-4bc0f918bafa>, line 11)",
     "output_type": "error",
     "traceback": [
      "\u001b[1;36m  File \u001b[1;32m\"<ipython-input-15-4bc0f918bafa>\"\u001b[1;36m, line \u001b[1;32m11\u001b[0m\n\u001b[1;33m    print circle_circum(3)\u001b[0m\n\u001b[1;37m                      ^\u001b[0m\n\u001b[1;31mSyntaxError\u001b[0m\u001b[1;31m:\u001b[0m invalid syntax\n"
     ]
    }
   ],
   "source": [
    "\n",
    "import math # 要使⽤用圓周率 pi 得引入套件 math\n",
    "\n",
    "def circle_circum(r):\n",
    "    \n",
    "    '輸入半徑長度可以計算出圓周長'\n",
    "    \n",
    "    return 2 * math.pi * r\n",
    "\n",
    "\n",
    "print circle_circum(3)\n"
   ]
  },
  {
   "cell_type": "code",
   "execution_count": 16,
   "metadata": {},
   "outputs": [
    {
     "ename": "SyntaxError",
     "evalue": "Missing parentheses in call to 'print'. Did you mean print(ans # 在函數外沒有 ans)? (<ipython-input-16-a6d192836a61>, line 4)",
     "output_type": "error",
     "traceback": [
      "\u001b[1;36m  File \u001b[1;32m\"<ipython-input-16-a6d192836a61>\"\u001b[1;36m, line \u001b[1;32m4\u001b[0m\n\u001b[1;33m    print ans # 在函數外沒有 ans\u001b[0m\n\u001b[1;37m            ^\u001b[0m\n\u001b[1;31mSyntaxError\u001b[0m\u001b[1;31m:\u001b[0m Missing parentheses in call to 'print'. Did you mean print(ans # 在函數外沒有 ans)?\n"
     ]
    }
   ],
   "source": [
    "def my_squared(x):\n",
    "    ans = x ** 2 # ans 是⼀一個區域變數\n",
    "    return ans\n",
    "print ans # 在函數外沒有 ans\n"
   ]
  },
  {
   "cell_type": "code",
   "execution_count": null,
   "metadata": {},
   "outputs": [],
   "source": [
    "ans = 0 # ans 是⼀一個全域變數\n",
    "def my_squared(x):\n",
    "    ans = x ** 2 # ans 是⼀一個區域變數\n",
    "    return ans\n",
    "print my_squared(3) # 區域變數 ans 的值是 9\n",
    "print ans # 全域變數 ans 的值是 0\n"
   ]
  }
 ],
 "metadata": {
  "kernelspec": {
   "display_name": "Python 3",
   "language": "python",
   "name": "python3"
  },
  "language_info": {
   "codemirror_mode": {
    "name": "ipython",
    "version": 3
   },
   "file_extension": ".py",
   "mimetype": "text/x-python",
   "name": "python",
   "nbconvert_exporter": "python",
   "pygments_lexer": "ipython3",
   "version": "3.6.5"
  }
 },
 "nbformat": 4,
 "nbformat_minor": 2
}
