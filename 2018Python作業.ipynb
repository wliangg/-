{
 "cells": [
  {
   "cell_type": "code",
   "execution_count": null,
   "metadata": {},
   "outputs": [],
   "source": [
    "# 作業1\n",
    "## 輸入一個數值，判斷若小於50則開根號乘以10。\n",
    "## 輸入一個數值，判斷若小於50則開根號乘以10，否則加10。"
   ]
  },
  {
   "cell_type": "code",
   "execution_count": 2,
   "metadata": {},
   "outputs": [
    {
     "name": "stdout",
     "output_type": "stream",
     "text": [
      "35\n",
      "59.160797831\n"
     ]
    }
   ],
   "source": [
    "x = int(input())\n",
    "if x < 50:\n",
    "    print (x**0.5*10)\n",
    "elif x >= 50:\n",
    "    print (x+10)"
   ]
  },
  {
   "cell_type": "code",
   "execution_count": 3,
   "metadata": {},
   "outputs": [
    {
     "name": "stdout",
     "output_type": "stream",
     "text": [
      "982\n",
      "992\n"
     ]
    }
   ],
   "source": [
    "x = int(input())\n",
    "if x < 50:\n",
    "    print (x**0.5*10)\n",
    "elif x >= 50:\n",
    "    print (x+10)"
   ]
  },
  {
   "cell_type": "code",
   "execution_count": null,
   "metadata": {},
   "outputs": [],
   "source": [
    "# 作業2\n",
    "## 請依照慣例將成績分成Ａ、Ｂ、Ｃ、Ｄ與Ｅ（不及格）五個等級。"
   ]
  },
  {
   "cell_type": "code",
   "execution_count": 5,
   "metadata": {},
   "outputs": [
    {
     "ename": "SyntaxError",
     "evalue": "invalid syntax (<ipython-input-5-90d6b3ffaf45>, line 2)",
     "output_type": "error",
     "traceback": [
      "\u001b[0;36m  File \u001b[0;32m\"<ipython-input-5-90d6b3ffaf45>\"\u001b[0;36m, line \u001b[0;32m2\u001b[0m\n\u001b[0;31m    int main()\u001b[0m\n\u001b[0m           ^\u001b[0m\n\u001b[0;31mSyntaxError\u001b[0m\u001b[0;31m:\u001b[0m invalid syntax\n"
     ]
    }
   ],
   "source": [
    "#include<stdio.h>\n",
    "int main()\n",
    "{\n",
    "    int n, score;\n",
    "    int A, B, C, D, E;\n",
    "    A=B=C=D=E=0;\n",
    "    scanf(\"%d\", &n);\n",
    "    for(int i=1; i<=n; i++){\n",
    "        scanf(\"%d\", &score);\n",
    "        if(score>=90)\n",
    "            A++;\n",
    "        else if(score>=80)\n",
    "                B++;\n",
    "        else if(score>=70)\n",
    "                C++;\n",
    "        else if(score>=60)\n",
    "                D++;\n",
    "        else\n",
    "            E++;\n",
    "    }\n",
    "    printf(\"%d %d %d %d %d\", A, B, C, D, E);\n",
    "\n",
    "    return 0"
   ]
  },
  {
   "cell_type": "code",
   "execution_count": null,
   "metadata": {},
   "outputs": [],
   "source": [
    "# 作業3:\n",
    "## 以巢狀迴圈產生九九乘法表。"
   ]
  },
  {
   "cell_type": "code",
   "execution_count": 1,
   "metadata": {},
   "outputs": [
    {
     "ename": "SyntaxError",
     "evalue": "invalid syntax (<ipython-input-1-42d2c929743a>, line 3)",
     "output_type": "error",
     "traceback": [
      "\u001b[0;36m  File \u001b[0;32m\"<ipython-input-1-42d2c929743a>\"\u001b[0;36m, line \u001b[0;32m3\u001b[0m\n\u001b[0;31m    print(i, '*', j, '=', i*j, '\\t', sep='',end='')\u001b[0m\n\u001b[0m                                        ^\u001b[0m\n\u001b[0;31mSyntaxError\u001b[0m\u001b[0;31m:\u001b[0m invalid syntax\n"
     ]
    }
   ],
   "source": [
    "for i in range(1,10):\n",
    "      for j in range(1,10):\n",
    "            print(i, '*', j, '=', i*j, '\\t', sep='',end='')\n",
    "      print()"
   ]
  },
  {
   "cell_type": "code",
   "execution_count": null,
   "metadata": {},
   "outputs": [],
   "source": [
    "# 作業4:\n",
    "## 請使用迴圈敘述撰寫一個程式，提示使用者輸入金額、年收益率、以及經過的月份數，接著顯示每個月的存款總額。"
   ]
  },
  {
   "cell_type": "code",
   "execution_count": null,
   "metadata": {},
   "outputs": [],
   "source": []
  }
 ],
 "metadata": {
  "kernelspec": {
   "display_name": "Python 2",
   "language": "python",
   "name": "python2"
  },
  "language_info": {
   "codemirror_mode": {
    "name": "ipython",
    "version": 2
   },
   "file_extension": ".py",
   "mimetype": "text/x-python",
   "name": "python",
   "nbconvert_exporter": "python",
   "pygments_lexer": "ipython2",
   "version": "2.7.15"
  }
 },
 "nbformat": 4,
 "nbformat_minor": 2
}
