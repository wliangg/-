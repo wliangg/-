{
 "cells": [
  {
   "cell_type": "code",
   "execution_count": null,
   "metadata": {},
   "outputs": [],
   "source": [
    "# 作業1\n",
    "## 輸入一個數值，判斷若小於50則開根號乘以10。\n",
    "## 輸入一個數值，判斷若小於50則開根號乘以10，否則加10。"
   ]
  },
  {
   "cell_type": "code",
   "execution_count": 2,
   "metadata": {},
   "outputs": [
    {
     "name": "stdout",
     "output_type": "stream",
     "text": [
      "35\n",
      "59.160797831\n"
     ]
    }
   ],
   "source": [
    "x = int(input())\n",
    "if x < 50:\n",
    "    print (x**0.5*10)\n",
    "elif x >= 50:\n",
    "    print (x+10)"
   ]
  },
  {
   "cell_type": "code",
   "execution_count": 3,
   "metadata": {},
   "outputs": [
    {
     "name": "stdout",
     "output_type": "stream",
     "text": [
      "982\n",
      "992\n"
     ]
    }
   ],
   "source": [
    "x = int(input())\n",
    "if x < 50:\n",
    "    print (x**0.5*10)\n",
    "elif x >= 50:\n",
    "    print (x+10)"
   ]
  },
  {
   "cell_type": "code",
   "execution_count": null,
   "metadata": {},
   "outputs": [],
   "source": [
    "# 作業2\n",
    "## 請依照慣例將成績分成Ａ、Ｂ、Ｃ、Ｄ與Ｅ（不及格）五個等級。"
   ]
  },
  {
   "cell_type": "code",
   "execution_count": 3,
   "metadata": {},
   "outputs": [
    {
     "name": "stdout",
     "output_type": "stream",
     "text": [
      "67\n",
      "D\n"
     ]
    }
   ],
   "source": [
    "x = int(input())\n",
    "if x >= 90:\n",
    "    print (\"A\")\n",
    "elif 90 > x >= 80:\n",
    "    print (\"B\")\n",
    "elif 80 > x >= 70:\n",
    "    print (\"C\")\n",
    "elif 70 > x >= 60:\n",
    "    print (\"D\")\n",
    "elif x<= 60:\n",
    "    print (\"E\")"
   ]
  },
  {
   "cell_type": "code",
   "execution_count": null,
   "metadata": {},
   "outputs": [],
   "source": [
    "# 作業3:\n",
    "## 以巢狀迴圈產生九九乘法表。"
   ]
  },
  {
   "cell_type": "code",
   "execution_count": 2,
   "metadata": {},
   "outputs": [
    {
     "name": "stdout",
     "output_type": "stream",
     "text": [
      "(1, 'x', 1, '=', 1)\n",
      "(1, 'x', 2, '=', 2)\n",
      "(1, 'x', 3, '=', 3)\n",
      "(1, 'x', 4, '=', 4)\n",
      "(1, 'x', 5, '=', 5)\n",
      "(1, 'x', 6, '=', 6)\n",
      "(1, 'x', 7, '=', 7)\n",
      "(1, 'x', 8, '=', 8)\n",
      "(1, 'x', 9, '=', 9)\n",
      "(2, 'x', 1, '=', 2)\n",
      "(2, 'x', 2, '=', 4)\n",
      "(2, 'x', 3, '=', 6)\n",
      "(2, 'x', 4, '=', 8)\n",
      "(2, 'x', 5, '=', 10)\n",
      "(2, 'x', 6, '=', 12)\n",
      "(2, 'x', 7, '=', 14)\n",
      "(2, 'x', 8, '=', 16)\n",
      "(2, 'x', 9, '=', 18)\n",
      "(3, 'x', 1, '=', 3)\n",
      "(3, 'x', 2, '=', 6)\n",
      "(3, 'x', 3, '=', 9)\n",
      "(3, 'x', 4, '=', 12)\n",
      "(3, 'x', 5, '=', 15)\n",
      "(3, 'x', 6, '=', 18)\n",
      "(3, 'x', 7, '=', 21)\n",
      "(3, 'x', 8, '=', 24)\n",
      "(3, 'x', 9, '=', 27)\n",
      "(4, 'x', 1, '=', 4)\n",
      "(4, 'x', 2, '=', 8)\n",
      "(4, 'x', 3, '=', 12)\n",
      "(4, 'x', 4, '=', 16)\n",
      "(4, 'x', 5, '=', 20)\n",
      "(4, 'x', 6, '=', 24)\n",
      "(4, 'x', 7, '=', 28)\n",
      "(4, 'x', 8, '=', 32)\n",
      "(4, 'x', 9, '=', 36)\n",
      "(5, 'x', 1, '=', 5)\n",
      "(5, 'x', 2, '=', 10)\n",
      "(5, 'x', 3, '=', 15)\n",
      "(5, 'x', 4, '=', 20)\n",
      "(5, 'x', 5, '=', 25)\n",
      "(5, 'x', 6, '=', 30)\n",
      "(5, 'x', 7, '=', 35)\n",
      "(5, 'x', 8, '=', 40)\n",
      "(5, 'x', 9, '=', 45)\n",
      "(6, 'x', 1, '=', 6)\n",
      "(6, 'x', 2, '=', 12)\n",
      "(6, 'x', 3, '=', 18)\n",
      "(6, 'x', 4, '=', 24)\n",
      "(6, 'x', 5, '=', 30)\n",
      "(6, 'x', 6, '=', 36)\n",
      "(6, 'x', 7, '=', 42)\n",
      "(6, 'x', 8, '=', 48)\n",
      "(6, 'x', 9, '=', 54)\n",
      "(7, 'x', 1, '=', 7)\n",
      "(7, 'x', 2, '=', 14)\n",
      "(7, 'x', 3, '=', 21)\n",
      "(7, 'x', 4, '=', 28)\n",
      "(7, 'x', 5, '=', 35)\n",
      "(7, 'x', 6, '=', 42)\n",
      "(7, 'x', 7, '=', 49)\n",
      "(7, 'x', 8, '=', 56)\n",
      "(7, 'x', 9, '=', 63)\n",
      "(8, 'x', 1, '=', 8)\n",
      "(8, 'x', 2, '=', 16)\n",
      "(8, 'x', 3, '=', 24)\n",
      "(8, 'x', 4, '=', 32)\n",
      "(8, 'x', 5, '=', 40)\n",
      "(8, 'x', 6, '=', 48)\n",
      "(8, 'x', 7, '=', 56)\n",
      "(8, 'x', 8, '=', 64)\n",
      "(8, 'x', 9, '=', 72)\n",
      "(9, 'x', 1, '=', 9)\n",
      "(9, 'x', 2, '=', 18)\n",
      "(9, 'x', 3, '=', 27)\n",
      "(9, 'x', 4, '=', 36)\n",
      "(9, 'x', 5, '=', 45)\n",
      "(9, 'x', 6, '=', 54)\n",
      "(9, 'x', 7, '=', 63)\n",
      "(9, 'x', 8, '=', 72)\n",
      "(9, 'x', 9, '=', 81)\n"
     ]
    }
   ],
   "source": [
    "for x in range(1,10):\n",
    "    for y in range(1,10):\n",
    "        print(x,\"x\",y,\"=\",x*y)"
   ]
  },
  {
   "cell_type": "code",
   "execution_count": null,
   "metadata": {},
   "outputs": [],
   "source": [
    "# 作業4:\n",
    "## 請使用迴圈敘述撰寫一個程式，提示使用者輸入金額、年收益率、以及經過的月份數，接著顯示每個月的存款總額。"
   ]
  },
  {
   "cell_type": "code",
   "execution_count": 12,
   "metadata": {},
   "outputs": [
    {
     "ename": "SyntaxError",
     "evalue": "invalid syntax (<ipython-input-12-14cd6ddb96fc>, line 1)",
     "output_type": "error",
     "traceback": [
      "\u001b[0;36m  File \u001b[0;32m\"<ipython-input-12-14cd6ddb96fc>\"\u001b[0;36m, line \u001b[0;32m1\u001b[0m\n\u001b[0;31m    print 金額 = int(input(\"輸入金額\"))\u001b[0m\n\u001b[0m          ^\u001b[0m\n\u001b[0;31mSyntaxError\u001b[0m\u001b[0;31m:\u001b[0m invalid syntax\n"
     ]
    }
   ],
   "source": [
    "    print 金額 = int(input(\"輸入金額\"))\n",
    "    print 年收益率 = int(input(\"輸入收益率\"))\n",
    "    print 經過月數 = int(input(\"輸日經過月數\"))\n",
    "    print (\"經過月數\",\"金額\")\n",
    "    for i in range(1, 經過月數+1):\n",
    "    存款 = 金額 * 年收益率/12\n",
    "    print (i,int(存款))"
   ]
  },
  {
   "cell_type": "code",
   "execution_count": 10,
   "metadata": {},
   "outputs": [
    {
     "name": "stdout",
     "output_type": "stream",
     "text": [
      "This program calculates the future value\n",
      "of a 10­year investment.\n",
      "Enter the initial principal: 6000*7\n"
     ]
    },
    {
     "ename": "TypeError",
     "evalue": "eval() arg 1 must be a string or code object",
     "output_type": "error",
     "traceback": [
      "\u001b[0;31m---------------------------------------------------------------------------\u001b[0m",
      "\u001b[0;31mTypeError\u001b[0m                                 Traceback (most recent call last)",
      "\u001b[0;32m<ipython-input-10-8d01ab91852d>\u001b[0m in \u001b[0;36m<module>\u001b[0;34m()\u001b[0m\n\u001b[1;32m      7\u001b[0m         \u001b[0mprincipal\u001b[0m \u001b[0;34m=\u001b[0m \u001b[0mprincipal\u001b[0m \u001b[0;34m*\u001b[0m\u001b[0;34m(\u001b[0m\u001b[0;36m1\u001b[0m\u001b[0;34m+\u001b[0m\u001b[0mapr\u001b[0m\u001b[0;34m)\u001b[0m\u001b[0;34m\u001b[0m\u001b[0m\n\u001b[1;32m      8\u001b[0m     \u001b[0;32mprint\u001b[0m\u001b[0;34m(\u001b[0m\u001b[0;34m\"The value in 10 years is:\"\u001b[0m\u001b[0;34m,\u001b[0m \u001b[0mprincipal\u001b[0m\u001b[0;34m)\u001b[0m\u001b[0;34m\u001b[0m\u001b[0m\n\u001b[0;32m----> 9\u001b[0;31m \u001b[0mmain\u001b[0m\u001b[0;34m(\u001b[0m\u001b[0;34m)\u001b[0m\u001b[0;34m\u001b[0m\u001b[0m\n\u001b[0m",
      "\u001b[0;32m<ipython-input-10-8d01ab91852d>\u001b[0m in \u001b[0;36mmain\u001b[0;34m()\u001b[0m\n\u001b[1;32m      2\u001b[0m     \u001b[0;32mprint\u001b[0m\u001b[0;34m(\u001b[0m\u001b[0;34m\"This program calculates the future value\"\u001b[0m\u001b[0;34m)\u001b[0m\u001b[0;34m\u001b[0m\u001b[0m\n\u001b[1;32m      3\u001b[0m     \u001b[0;32mprint\u001b[0m\u001b[0;34m(\u001b[0m\u001b[0;34m\"of a 10­year investment.\"\u001b[0m\u001b[0;34m)\u001b[0m\u001b[0;34m\u001b[0m\u001b[0m\n\u001b[0;32m----> 4\u001b[0;31m     \u001b[0mprincipal\u001b[0m \u001b[0;34m=\u001b[0m \u001b[0meval\u001b[0m\u001b[0;34m(\u001b[0m\u001b[0minput\u001b[0m\u001b[0;34m(\u001b[0m\u001b[0;34m\"Enter the initial principal: \"\u001b[0m\u001b[0;34m)\u001b[0m\u001b[0;34m)\u001b[0m\u001b[0;34m\u001b[0m\u001b[0m\n\u001b[0m\u001b[1;32m      5\u001b[0m     \u001b[0mapr\u001b[0m \u001b[0;34m=\u001b[0m \u001b[0meval\u001b[0m\u001b[0;34m(\u001b[0m\u001b[0minput\u001b[0m\u001b[0;34m(\u001b[0m\u001b[0;34m\"Enter the annual interest rate: \"\u001b[0m\u001b[0;34m)\u001b[0m\u001b[0;34m)\u001b[0m\u001b[0;34m\u001b[0m\u001b[0m\n\u001b[1;32m      6\u001b[0m     \u001b[0;32mfor\u001b[0m \u001b[0mi\u001b[0m \u001b[0;32min\u001b[0m \u001b[0mrange\u001b[0m\u001b[0;34m(\u001b[0m\u001b[0;36m10\u001b[0m\u001b[0;34m)\u001b[0m\u001b[0;34m:\u001b[0m\u001b[0;34m\u001b[0m\u001b[0m\n",
      "\u001b[0;31mTypeError\u001b[0m: eval() arg 1 must be a string or code object"
     ]
    }
   ],
   "source": [
    "def main():\n",
    "    print(\"This program calculates the future value\") \n",
    "    print(\"of a 10­year investment.\")\n",
    "    principal = eval(input(\"Enter the initial principal: \")) \n",
    "    apr = eval(input(\"Enter the annual interest rate: \")) \n",
    "    for i in range(10):\n",
    "        principal = principal *(1+apr)\n",
    "    print(\"The value in 10 years is:\", principal)\n",
    "main()"
   ]
  },
  {
   "cell_type": "code",
   "execution_count": null,
   "metadata": {},
   "outputs": [],
   "source": []
  }
 ],
 "metadata": {
  "kernelspec": {
   "display_name": "Python 2",
   "language": "python",
   "name": "python2"
  },
  "language_info": {
   "codemirror_mode": {
    "name": "ipython",
    "version": 2
   },
   "file_extension": ".py",
   "mimetype": "text/x-python",
   "name": "python",
   "nbconvert_exporter": "python",
   "pygments_lexer": "ipython2",
   "version": "2.7.15"
  }
 },
 "nbformat": 4,
 "nbformat_minor": 2
}
